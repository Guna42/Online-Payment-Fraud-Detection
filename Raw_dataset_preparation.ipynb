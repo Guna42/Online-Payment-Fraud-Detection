{
 "cells": [
  {
   "cell_type": "markdown",
   "id": "c9a864f3-ee1b-45a3-a0ae-54f4d9c8175e",
   "metadata": {},
   "source": [
    "# *Data Source*"
   ]
  },
  {
   "cell_type": "markdown",
   "id": "da053c9c-6227-46b6-9084-60df4137a991",
   "metadata": {},
   "source": [
    "### The dataset for this project is taken from Kaggle. It contains historical information about fraudulent transactions which can be used to detect fraud in online payments:                    https://www.kaggle.com/datasets/rupakroy/online-payments-fraud-detection-dataset?select=PS_20174392719_1491204439457_log.csv"
   ]
  },
  {
   "cell_type": "markdown",
   "id": "4edde20e-0b08-4495-aaf8-c1b398f62860",
   "metadata": {},
   "source": [
    "# *Define file path*"
   ]
  },
  {
   "cell_type": "code",
   "execution_count": 4,
   "id": "7e4db839-548f-47d8-896d-86107d0764ce",
   "metadata": {},
   "outputs": [],
   "source": [
    "# Define the file path for the dataset\n",
    "DATA_FILE = r\"C:\\Users\\GUNA\\Downloads\\onlinefraud.csv.zip\"  # Use 'r' for raw string to handle backslashes\n"
   ]
  },
  {
   "cell_type": "markdown",
   "id": "4615253d-a6c5-4cb3-aa05-6da92f6617b8",
   "metadata": {},
   "source": [
    "# Load the Dataset from zip "
   ]
  },
  {
   "cell_type": "code",
   "execution_count": 5,
   "id": "a9b650f8-bf3f-4af6-9366-0b3a68757f0b",
   "metadata": {},
   "outputs": [
    {
     "name": "stdout",
     "output_type": "stream",
     "text": [
      "Dataset loaded successfully.\n"
     ]
    }
   ],
   "source": [
    "import pandas as pd\n",
    "import zipfile\n",
    "import os\n",
    "\n",
    "# Step 1: Function to load the dataset from a ZIP file\n",
    "def import_data_from_zip(zip_path, csv_filename):\n",
    "    \"\"\"\n",
    "    This function extracts a CSV file from a ZIP archive and returns a DataFrame.\n",
    "    If the ZIP file or CSV file is not found, it raises a FileNotFoundError.\n",
    "    \"\"\"\n",
    "    try:\n",
    "        with zipfile.ZipFile(zip_path, 'r') as z:\n",
    "            z.extract(csv_filename)  # Extract the CSV file from the ZIP\n",
    "            dataframe = pd.read_csv(csv_filename)  # Load the extracted CSV file\n",
    "            print(\"Dataset loaded successfully.\")\n",
    "            return dataframe\n",
    "    except FileNotFoundError as error:\n",
    "        print(f\"Error: {error}. Ensure the dataset is located at the provided path.\")\n",
    "        raise\n",
    "\n",
    "# Load the dataset from ZIP\n",
    "dataframe = import_data_from_zip(DATA_FILE, \"onlinefraud.csv\")  # Replace with the actual CSV name inside the ZIP if different\n"
   ]
  },
  {
   "cell_type": "markdown",
   "id": "d6924b52-fd00-431a-8eed-1275c310c66f",
   "metadata": {},
   "source": [
    "# *Create a Balanced Random Sample*"
   ]
  },
  {
   "cell_type": "code",
   "execution_count": 8,
   "id": "d9ac1b9d-917b-4765-93f9-881fce722cc3",
   "metadata": {},
   "outputs": [],
   "source": [
    "# Step 2: Function to generate a balanced random sample from the dataset\n",
    "def generate_balanced_sample(df, num_samples_per_class, output_filename):\n",
    "    \"\"\"\n",
    "    This function creates a balanced sample of fraud and non-fraud transactions.\n",
    "    It saves the sampled data to a specified CSV file.\n",
    "    \"\"\"\n",
    "    # Sample fraud and non-fraud transactions\n",
    "    fraud_samples = df[df['isFraud'] == 1].sample(n=num_samples_per_class, random_state=42)\n",
    "    non_fraud_samples = df[df['isFraud'] == 0].sample(n=num_samples_per_class, random_state=42)\n",
    "\n",
    "    # Combine and shuffle the samples\n",
    "    balanced_sample = pd.concat([fraud_samples, non_fraud_samples]).sample(frac=1, random_state=42).reset_index(drop=True)\n",
    "\n",
    "    # Save the balanced sample to a CSV file\n",
    "    balanced_sample.to_csv(output_filename, index=False)\n"
   ]
  },
  {
   "cell_type": "markdown",
   "id": "8e97e5eb-af5f-494d-8b3a-99d943e66786",
   "metadata": {},
   "source": [
    "# *Function Call to Create Balanced Sample*"
   ]
  },
  {
   "cell_type": "code",
   "execution_count": 9,
   "id": "b9ae9384-98da-4a72-95c0-341eaed63a5d",
   "metadata": {},
   "outputs": [],
   "source": [
    "# Create the balanced random sample\n",
    "generate_balanced_sample(dataframe, 8213, \"Balanced_Online_Payment_Sample.csv\")\n"
   ]
  },
  {
   "cell_type": "markdown",
   "id": "405b5484",
   "metadata": {},
   "source": [
    "# Basic Data Overview "
   ]
  },
  {
   "cell_type": "code",
   "execution_count": 10,
   "id": "1ca51120",
   "metadata": {},
   "outputs": [
    {
     "name": "stdout",
     "output_type": "stream",
     "text": [
      "DataFrame Shape: (6362620, 11)\n",
      "\n",
      "DataFrame Info:\n",
      "<class 'pandas.core.frame.DataFrame'>\n",
      "RangeIndex: 6362620 entries, 0 to 6362619\n",
      "Data columns (total 11 columns):\n",
      " #   Column          Dtype  \n",
      "---  ------          -----  \n",
      " 0   step            int64  \n",
      " 1   type            object \n",
      " 2   amount          float64\n",
      " 3   nameOrig        object \n",
      " 4   oldbalanceOrg   float64\n",
      " 5   newbalanceOrig  float64\n",
      " 6   nameDest        object \n",
      " 7   oldbalanceDest  float64\n",
      " 8   newbalanceDest  float64\n",
      " 9   isFraud         int64  \n",
      " 10  isFlaggedFraud  int64  \n",
      "dtypes: float64(5), int64(3), object(3)\n",
      "memory usage: 534.0+ MB\n",
      "None\n",
      "\n",
      "Basic Statistics:\n",
      "               step        amount  oldbalanceOrg  newbalanceOrig  \\\n",
      "count  6.362620e+06  6.362620e+06   6.362620e+06    6.362620e+06   \n",
      "mean   2.433972e+02  1.798619e+05   8.338831e+05    8.551137e+05   \n",
      "std    1.423320e+02  6.038582e+05   2.888243e+06    2.924049e+06   \n",
      "min    1.000000e+00  0.000000e+00   0.000000e+00    0.000000e+00   \n",
      "25%    1.560000e+02  1.338957e+04   0.000000e+00    0.000000e+00   \n",
      "50%    2.390000e+02  7.487194e+04   1.420800e+04    0.000000e+00   \n",
      "75%    3.350000e+02  2.087215e+05   1.073152e+05    1.442584e+05   \n",
      "max    7.430000e+02  9.244552e+07   5.958504e+07    4.958504e+07   \n",
      "\n",
      "       oldbalanceDest  newbalanceDest       isFraud  isFlaggedFraud  \n",
      "count    6.362620e+06    6.362620e+06  6.362620e+06    6.362620e+06  \n",
      "mean     1.100702e+06    1.224996e+06  1.290820e-03    2.514687e-06  \n",
      "std      3.399180e+06    3.674129e+06  3.590480e-02    1.585775e-03  \n",
      "min      0.000000e+00    0.000000e+00  0.000000e+00    0.000000e+00  \n",
      "25%      0.000000e+00    0.000000e+00  0.000000e+00    0.000000e+00  \n",
      "50%      1.327057e+05    2.146614e+05  0.000000e+00    0.000000e+00  \n",
      "75%      9.430367e+05    1.111909e+06  0.000000e+00    0.000000e+00  \n",
      "max      3.560159e+08    3.561793e+08  1.000000e+00    1.000000e+00  \n"
     ]
    }
   ],
   "source": [
    "# Step 3: Perform basic data overview\n",
    "def data_overview(df):\n",
    "    \"\"\"\n",
    "    This function provides a summary of the DataFrame including shape, datatypes,\n",
    "    and basic statistics.\n",
    "    \"\"\"\n",
    "    print(\"DataFrame Shape:\", df.shape)\n",
    "    print(\"\\nDataFrame Info:\")\n",
    "    print(df.info())\n",
    "    print(\"\\nBasic Statistics:\")\n",
    "    print(df.describe())\n",
    "    \n",
    "# Call the data overview function\n",
    "data_overview(dataframe)\n"
   ]
  }
 ],
 "metadata": {
  "kernelspec": {
   "display_name": "Python 3",
   "language": "python",
   "name": "python3"
  },
  "language_info": {
   "codemirror_mode": {
    "name": "ipython",
    "version": 3
   },
   "file_extension": ".py",
   "mimetype": "text/x-python",
   "name": "python",
   "nbconvert_exporter": "python",
   "pygments_lexer": "ipython3",
   "version": "3.12.7"
  }
 },
 "nbformat": 4,
 "nbformat_minor": 5
}
